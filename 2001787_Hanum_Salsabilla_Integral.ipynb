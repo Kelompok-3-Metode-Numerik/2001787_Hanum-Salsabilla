{
  "nbformat": 4,
  "nbformat_minor": 0,
  "metadata": {
    "colab": {
      "provenance": []
    },
    "kernelspec": {
      "name": "python3",
      "display_name": "Python 3"
    },
    "language_info": {
      "name": "python"
    }
  },
  "cells": [
    {
      "cell_type": "markdown",
      "source": [
        "# **Integral**"
      ],
      "metadata": {
        "id": "kNgPG_pggGU1"
      }
    },
    {
      "cell_type": "markdown",
      "source": [
        "**Metode Simpson's 1/3**"
      ],
      "metadata": {
        "id": "dZK40xAgjJOO"
      }
    },
    {
      "cell_type": "code",
      "source": [
        "# Mendefinisikan fungsi terlebih dahulu\n",
        "def f(x):\n",
        "    return 1/(1 + x**2)\n",
        "\n",
        "# Implementasi Simpson's 1/3 \n",
        "def simpson13(x0,xn,n):\n",
        "    h = (xn - x0) / n # Mengkalkulasikan langkah-langkahnya\n",
        "    \n",
        "    integration = f(x0) + f(xn) # Mencari jumlah\n",
        "    \n",
        "    for i in range(1,n):\n",
        "        k = x0 + i*h\n",
        "        \n",
        "        if i%2 == 0:\n",
        "            integration = integration + 2 * f(k)\n",
        "        else:\n",
        "            integration = integration + 4 * f(k)\n",
        "    \n",
        "    # Nilai akhir integralnya\n",
        "    integration = integration * h/3\n",
        "    \n",
        "    return integration\n",
        "    \n",
        "lower_limit = float(input(\"Limit bawah: \"))\n",
        "upper_limit = float(input(\"Limit atas: \"))\n",
        "sub_interval = int(input(\"Nilai sub-interval: \"))\n",
        "\n",
        "# Memanggil method trapezoidal() dan mendapatkan hasilnya\n",
        "result = simpson13(lower_limit, upper_limit, sub_interval)\n",
        "print(\"Hasil menggunakan Simpson's 1/3: %0.6f\" % (result) )"
      ],
      "metadata": {
        "id": "JVl9InFqjENi",
        "colab": {
          "base_uri": "https://localhost:8080/"
        },
        "outputId": "1d353cc3-4468-4ec8-baee-a223fc3b57f6"
      },
      "execution_count": 1,
      "outputs": [
        {
          "output_type": "stream",
          "name": "stdout",
          "text": [
            "Limit bawah: 0\n",
            "Limit atas: 5\n",
            "Nilai sub-interval: 3\n",
            "Hasil menggunakan Simpson's 1/3: 1.256901\n"
          ]
        }
      ]
    },
    {
      "cell_type": "markdown",
      "source": [
        "**Metode Simpson's 3/8**"
      ],
      "metadata": {
        "id": "ACX3Knibjf_E"
      }
    },
    {
      "cell_type": "code",
      "source": [
        "# Mendefinisikan fungsi\n",
        "def f(x):\n",
        "    return 1/(1 + x**2)\n",
        "\n",
        "# Implementasi Simpson's 3/8\n",
        "def simpson38(x0,xn,n):\n",
        "    h = (xn - x0) / n # Mengkalkulasikan langkah-langkahnya\n",
        "    \n",
        "    integration = f(x0) + f(xn) # Mencari jumlah\n",
        "    \n",
        "    for i in range(1,n):\n",
        "        k = x0 + i*h\n",
        "        \n",
        "        if i%2 == 0:\n",
        "            integration = integration + 2 * f(k)\n",
        "        else:\n",
        "            integration = integration + 3 * f(k)\n",
        "    \n",
        "    # Nilai akhirnya\n",
        "    integration = integration * 3 * h / 8\n",
        "    \n",
        "    return integration\n",
        "\n",
        "lower_limit = float(input(\"Nilai bawah: \"))\n",
        "upper_limit = float(input(\"Nilai atas: \"))\n",
        "sub_interval = int(input(\"Nilai sub-integral: \"))\n",
        "\n",
        "# Call trapezoidal() method and get result\n",
        "result = simpson38(lower_limit, upper_limit, sub_interval)\n",
        "print(\"Hasil menggunakan Simpson's 3/8: %0.6f\" % (result) )"
      ],
      "metadata": {
        "id": "6gSJZphMjjd4",
        "colab": {
          "base_uri": "https://localhost:8080/"
        },
        "outputId": "1089e752-f92a-4fa1-cdb3-47c03f86b022"
      },
      "execution_count": 2,
      "outputs": [
        {
          "output_type": "stream",
          "name": "stdout",
          "text": [
            "Nilai bawah: 0\n",
            "Nilai atas: 4\n",
            "Nilai sub-integral: 3\n",
            "Hasil menggunakan Simpson's 3/8: 1.192699\n"
          ]
        }
      ]
    }
  ]
}