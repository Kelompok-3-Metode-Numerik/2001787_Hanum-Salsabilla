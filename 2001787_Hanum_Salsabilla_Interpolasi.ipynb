{
  "nbformat": 4,
  "nbformat_minor": 0,
  "metadata": {
    "colab": {
      "provenance": []
    },
    "kernelspec": {
      "name": "python3",
      "display_name": "Python 3"
    },
    "language_info": {
      "name": "python"
    }
  },
  "cells": [
    {
      "cell_type": "markdown",
      "source": [
        "# **Interpolasi**"
      ],
      "metadata": {
        "id": "GJb17hsdeGJe"
      }
    },
    {
      "cell_type": "markdown",
      "source": [
        "**Lagrange**"
      ],
      "metadata": {
        "id": "8MVXZIuufX19"
      }
    },
    {
      "cell_type": "code",
      "source": [
        "# Memakai library numpy\n",
        "import numpy as np\n",
        "\n",
        "n = int(input('Masukkan jumlah titik data: ')) # Input titik \n",
        "\n",
        "# Buat matriks n x n\n",
        "x = np.zeros((n)) # x = koefisien\n",
        "y = np.zeros((n)) # y = hasil\n",
        "\n",
        "# Koefisien dan hasil dimasukkan\n",
        "print('Masukkan x dan y: ')\n",
        "for i in range(n):\n",
        "    x[i] = float(input( 'x['+str(i)+']='))\n",
        "    y[i] = float(input( 'y['+str(i)+']='))\n",
        "\n",
        "# Memasukkan titik yang dicari\n",
        "xp = float(input('Enter interpolation point: '))\n",
        "yp = 0 # Membuat hasil awal (yp) menjadi 0\n",
        "\n",
        "# Pengimplementasian\n",
        "for i in range(n):\n",
        "    \n",
        "    p = 1\n",
        "    \n",
        "    for j in range(n):\n",
        "        if i != j:\n",
        "            p = p * (xp - x[j])/(x[i] - x[j])\n",
        "    \n",
        "    yp = yp + p * y[i]    \n",
        "\n",
        "print('Interpolated value at %.3f is %.3f.' % (xp, yp))"
      ],
      "metadata": {
        "colab": {
          "base_uri": "https://localhost:8080/"
        },
        "id": "mYKkaXr9hzXw",
        "outputId": "eee0844a-7b96-479d-f23c-04dc71c9b78c"
      },
      "execution_count": 1,
      "outputs": [
        {
          "output_type": "stream",
          "name": "stdout",
          "text": [
            "Masukkan jumlah titik data: 2\n",
            "Masukkan x dan y: \n",
            "x[0]=1\n",
            "y[0]=3\n",
            "x[1]=2\n",
            "y[1]=4\n",
            "Enter interpolation point: 2\n",
            "Interpolated value at 2.000 is 4.000.\n"
          ]
        }
      ]
    },
    {
      "cell_type": "markdown",
      "source": [
        "**Polinom Newton**\n",
        "\n"
      ],
      "metadata": {
        "id": "Sg4D9WCcfVxi"
      }
    },
    {
      "cell_type": "code",
      "source": [
        "n = int(input('Masukkan titik: ')) # Titik yang diketahui\n",
        "\n",
        "# Buat array n x n\n",
        "x = np.zeros((n))\n",
        "y = np.zeros((n,n))\n",
        "\n",
        "\n",
        "# Data yang dimasukkan dibaca oleh program\n",
        "print('Masukkan x dan y: ')\n",
        "for i in range(n):\n",
        "    x[i] = float(input( 'x['+str(i)+']='))\n",
        "    y[i][0] = float(input( 'y['+str(i)+']='))\n",
        "    \n",
        "# Untuk membuat tabel\n",
        "for i in range(1,n):\n",
        "    for j in range(0,n-i):\n",
        "        y[j][i] = y[j+1][i-1] - y[j][i-1]\n",
        "\n",
        "        \n",
        "print('\\nTABEL\\n');\n",
        "\n",
        "for i in range(0,n):\n",
        "    print('%0.2f' %(x[i]), end='')\n",
        "    for j in range(0, n-i):\n",
        "        print('\\t\\t%0.2f' %(y[i][j]), end='')\n",
        "    print()"
      ],
      "metadata": {
        "colab": {
          "base_uri": "https://localhost:8080/"
        },
        "id": "JX2HLuYoiax7",
        "outputId": "34de8b52-b2dd-46aa-c2a3-80578075d4d5"
      },
      "execution_count": 4,
      "outputs": [
        {
          "output_type": "stream",
          "name": "stdout",
          "text": [
            "Masukkan titik: 3\n",
            "Masukkan x dan y: \n",
            "x[0]=2\n",
            "y[0]=4\n",
            "x[1]=1\n",
            "y[1]=3\n",
            "x[2]=2\n",
            "y[2]=1\n",
            "\n",
            "TABEL\n",
            "\n",
            "2.00\t\t4.00\t\t-1.00\t\t-1.00\n",
            "1.00\t\t3.00\t\t-2.00\n",
            "2.00\t\t1.00\n"
          ]
        }
      ]
    }
  ]
}