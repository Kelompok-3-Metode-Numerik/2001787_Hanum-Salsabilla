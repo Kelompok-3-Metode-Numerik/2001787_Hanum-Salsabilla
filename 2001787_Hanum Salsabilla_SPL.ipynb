{
  "cells": [
    {
      "cell_type": "markdown",
      "id": "4ba43a31",
      "metadata": {
        "id": "4ba43a31"
      },
      "source": [
        "**Presentasi Persamaan Linier**"
      ]
    },
    {
      "cell_type": "markdown",
      "id": "3f2907fe",
      "metadata": {
        "id": "3f2907fe"
      },
      "source": [
        "1. Perkalian LU"
      ]
    },
    {
      "cell_type": "code",
      "execution_count": 2,
      "id": "d99e88c3",
      "metadata": {
        "id": "d99e88c3",
        "outputId": "54595029-0e0a-4324-fc20-bf5edb7112f4",
        "colab": {
          "base_uri": "https://localhost:8080/"
        }
      },
      "outputs": [
        {
          "output_type": "stream",
          "name": "stdout",
          "text": [
            "LU= [[ 4.  3. -5.]\n",
            " [-2. -4.  5.]\n",
            " [ 8.  8.  0.]]\n"
          ]
        }
      ],
      "source": [
        "import numpy as np\n",
        "u = np.array([[4, 3, -5],\n",
        "             [0, -2.5, 2.5],\n",
        "             [0, 0, 12]]) # Pendeklarasian nilai array untuk matriks U\n",
        "l = np.array([[1, 0, 0],\n",
        "             [-0.5, 1, 0],\n",
        "             [2, -0.8, 1]]) # Pendeklarasian nilai array untuk matriks L\n",
        "print(\"LU=\",np.dot(l, u))"
      ]
    },
    {
      "cell_type": "markdown",
      "id": "15160e31",
      "metadata": {
        "id": "15160e31"
      },
      "source": [
        "2. SPL Segitiga Atas"
      ]
    },
    {
      "cell_type": "code",
      "execution_count": null,
      "id": "bccd8581",
      "metadata": {
        "id": "bccd8581",
        "outputId": "a9c80129-089c-4ce9-c1b8-40a7ffbdb0b4"
      },
      "outputs": [
        {
          "name": "stdout",
          "output_type": "stream",
          "text": [
            "5\n"
          ]
        }
      ],
      "source": [
        "import numpy as np\n",
        "A = [[-2, 7, -4], [0, 6, 5], [0, 0, 3]]\n",
        "b = [[14],[5],[-8]]\n",
        "print(A[1][2])\n"
      ]
    },
    {
      "cell_type": "markdown",
      "id": "88ccd85a",
      "metadata": {
        "id": "88ccd85a"
      },
      "source": [
        "3. Metode Gauss"
      ]
    },
    {
      "cell_type": "code",
      "execution_count": 3,
      "id": "d70255ff",
      "metadata": {
        "id": "d70255ff",
        "colab": {
          "base_uri": "https://localhost:8080/"
        },
        "outputId": "1b10f02d-5349-4427-dff2-ae174ad8b7d8"
      },
      "outputs": [
        {
          "output_type": "stream",
          "name": "stdout",
          "text": [
            "Input jumlah variabel: 3\n",
            "Input koefisien dan nilai kanan pada SPL:\n",
            "a[0][0]=2\n",
            "a[0][1]=3\n",
            "a[0][2]=-1\n",
            "a[0][3]=5\n",
            "a[1][0]=4\n",
            "a[1][1]=4\n",
            "a[1][2]=-3\n",
            "a[1][3]=3\n",
            "a[2][0]=-2\n",
            "a[2][1]=3\n",
            "a[2][2]=-1\n",
            "a[2][3]=1\n",
            "\n",
            "Solusi SPL adalah: \n",
            "X0 = 1.00\tX1 = 2.00\tX2 = 3.00\t"
          ]
        }
      ],
      "source": [
        "import numpy as np\n",
        "import sys\n",
        " \n",
        "n = int(input('Input jumlah variabel: '))\n",
        "a = np.zeros((n,n+1))\n",
        "x = np.zeros(n)\n",
        "print('Input koefisien dan nilai kanan pada SPL:')\n",
        "for i in range(n):\n",
        "    for j in range(n+1):\n",
        "        a[i][j] = float(input( 'a['+str(i)+']['+ str(j)+']='))\n",
        "for i in range(n):\n",
        "    for j in range(i+1, n):\n",
        "        ratio = a[j][i]/a[i][i] # Mencari rasio\n",
        "        for k in range(n+1):\n",
        "            a[j][k] = a[j][k] - ratio * a[i][k] # Nilai kanan\n",
        "            # Sampai dapat bentukan yang ketiga\n",
        "x[n-1] = a[n-1][n]/a[n-1][n-1] # Cari nilai variabel terakhir\n",
        " \n",
        "for i in range(n-2,-1,-1):\n",
        "    x[i] = a[i][n]\n",
        "     \n",
        "    for j in range(i+1,n):\n",
        "        x[i] = x[i] - a[i][j]*x[j]\n",
        "     \n",
        "    x[i] = x[i]/a[i][i]\n",
        " \n",
        "print('\\nSolusi SPL adalah: ')\n",
        "for i in range(n):\n",
        "    print('X%d = %0.2f' %(i,x[i]), end = '\\t')"
      ]
    },
    {
      "cell_type": "markdown",
      "id": "9ecbc9b6",
      "metadata": {
        "id": "9ecbc9b6"
      },
      "source": [
        "4. Metode Gauss Jordan"
      ]
    },
    {
      "cell_type": "code",
      "execution_count": null,
      "id": "9752e8c8",
      "metadata": {
        "id": "9752e8c8",
        "outputId": "bcfa223d-555f-4454-ed4d-12ca668398f2"
      },
      "outputs": [
        {
          "name": "stdout",
          "output_type": "stream",
          "text": [
            "Input jumlah variabel: 3\n",
            "Input koefisien dan nilai kanan pada SPL:\n",
            "a[0][0]=3\n",
            "a[0][1]=-0.1\n",
            "a[0][2]=-0.2\n",
            "a[0][3]=7.85\n",
            "a[1][0]=0.1\n",
            "a[1][1]=7\n",
            "a[1][2]=-0.3\n",
            "a[1][3]=-19.3\n",
            "a[2][0]=0.3\n",
            "a[2][1]=-0.2\n",
            "a[2][2]=10\n",
            "a[2][3]=71.4\n",
            "\n",
            "Solusi SPL adalah: \n",
            "X0 = 3.00\tX1 = -2.50\tX2 = 7.00\t"
          ]
        }
      ],
      "source": [
        "import numpy as np\n",
        "import sys\n",
        "\n",
        "n = int(input('Input jumlah variabel: '))\n",
        "a = np.zeros((n,n+1)) #Memasukkan nilai matriks\n",
        "x = np.zeros(n) # Membuat matriks nol\n",
        "print('Input koefisien dan nilai kanan pada SPL:')\n",
        "for i in range(n):\n",
        "    for j in range(n+1):\n",
        "        a[i][j] = float(input( 'a['+str(i)+']['+ str(j)+']='))\n",
        "\n",
        "for i in range(n): # Mencari nilai diagonal utama\n",
        "    if a[i][i] == 0.0:\n",
        "        sys.exit('Terdapat nilai 0 pada diagonal utama')\n",
        "        \n",
        "    for j in range(n):\n",
        "        if i != j:\n",
        "            ratio = a[j][i]/a[i][i]\n",
        "\n",
        "            for k in range(n+1):\n",
        "                a[j][k] = a[j][k] - ratio * a[i][k]\n",
        "\n",
        "for i in range(n):\n",
        "    x[i] = a[i][n]/a[i][i]\n",
        "\n",
        "print('\\nSolusi SPL adalah: ')\n",
        "for i in range(n):\n",
        "    print('X%d = %0.2f' %(i,x[i]), end = '\\t')"
      ]
    },
    {
      "cell_type": "markdown",
      "id": "02e3b05c",
      "metadata": {
        "id": "02e3b05c"
      },
      "source": [
        "5. Dekomposisi LU"
      ]
    },
    {
      "cell_type": "code",
      "execution_count": 1,
      "id": "6251d602",
      "metadata": {
        "scrolled": true,
        "id": "6251d602",
        "outputId": "596702ac-6220-48ad-9580-ecc15791d790",
        "colab": {
          "base_uri": "https://localhost:8080/"
        }
      },
      "outputs": [
        {
          "output_type": "stream",
          "name": "stdout",
          "text": [
            "[[ 1.    0.    0.  ]\n",
            " [-0.5   1.    0.  ]\n",
            " [ 0.25 -0.5   1.  ]]\n",
            "[[ 4.   3.  -1. ]\n",
            " [ 0.  -2.5  4.5]\n",
            " [ 0.   0.   8.5]]\n"
          ]
        }
      ],
      "source": [
        "import numpy as np\n",
        "import scipy.linalg\n",
        "A = np.array([[4, 3, -1],\n",
        "             [-2, -4, 5],\n",
        "             [1, 2, 6]])\n",
        "P, L,U = scipy.linalg.lu(A)\n",
        "print(L)\n",
        "print(U)"
      ]
    },
    {
      "cell_type": "code",
      "execution_count": null,
      "id": "2d97ab87",
      "metadata": {
        "id": "2d97ab87"
      },
      "outputs": [],
      "source": []
    }
  ],
  "metadata": {
    "kernelspec": {
      "display_name": "Python 3 (ipykernel)",
      "language": "python",
      "name": "python3"
    },
    "language_info": {
      "codemirror_mode": {
        "name": "ipython",
        "version": 3
      },
      "file_extension": ".py",
      "mimetype": "text/x-python",
      "name": "python",
      "nbconvert_exporter": "python",
      "pygments_lexer": "ipython3",
      "version": "3.9.13"
    },
    "colab": {
      "provenance": []
    }
  },
  "nbformat": 4,
  "nbformat_minor": 5
}